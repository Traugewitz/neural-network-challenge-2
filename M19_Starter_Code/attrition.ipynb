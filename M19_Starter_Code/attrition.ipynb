{
  "cells": [
    {
      "cell_type": "markdown",
      "metadata": {
        "id": "alIIEHibGc3M"
      },
      "source": [
        "## Part 1: Preprocessing"
      ]
    },
    {
      "cell_type": "code",
      "execution_count": 1,
      "metadata": {
        "colab": {
          "base_uri": "https://localhost:8080/",
          "height": 325
        },
        "id": "6eDUJ4NtGc3P",
        "outputId": "2480098c-135c-4cbf-9552-018494ee8ff5"
      },
      "outputs": [
        {
          "name": "stdout",
          "output_type": "stream",
          "text": [
            "WARNING:tensorflow:From c:\\Users\\traug\\anaconda3\\Lib\\site-packages\\keras\\src\\losses.py:2976: The name tf.losses.sparse_softmax_cross_entropy is deprecated. Please use tf.compat.v1.losses.sparse_softmax_cross_entropy instead.\n",
            "\n"
          ]
        },
        {
          "data": {
            "text/html": [
              "<div>\n",
              "<style scoped>\n",
              "    .dataframe tbody tr th:only-of-type {\n",
              "        vertical-align: middle;\n",
              "    }\n",
              "\n",
              "    .dataframe tbody tr th {\n",
              "        vertical-align: top;\n",
              "    }\n",
              "\n",
              "    .dataframe thead th {\n",
              "        text-align: right;\n",
              "    }\n",
              "</style>\n",
              "<table border=\"1\" class=\"dataframe\">\n",
              "  <thead>\n",
              "    <tr style=\"text-align: right;\">\n",
              "      <th></th>\n",
              "      <th>Age</th>\n",
              "      <th>Attrition</th>\n",
              "      <th>BusinessTravel</th>\n",
              "      <th>Department</th>\n",
              "      <th>DistanceFromHome</th>\n",
              "      <th>Education</th>\n",
              "      <th>EducationField</th>\n",
              "      <th>EnvironmentSatisfaction</th>\n",
              "      <th>HourlyRate</th>\n",
              "      <th>JobInvolvement</th>\n",
              "      <th>...</th>\n",
              "      <th>PerformanceRating</th>\n",
              "      <th>RelationshipSatisfaction</th>\n",
              "      <th>StockOptionLevel</th>\n",
              "      <th>TotalWorkingYears</th>\n",
              "      <th>TrainingTimesLastYear</th>\n",
              "      <th>WorkLifeBalance</th>\n",
              "      <th>YearsAtCompany</th>\n",
              "      <th>YearsInCurrentRole</th>\n",
              "      <th>YearsSinceLastPromotion</th>\n",
              "      <th>YearsWithCurrManager</th>\n",
              "    </tr>\n",
              "  </thead>\n",
              "  <tbody>\n",
              "    <tr>\n",
              "      <th>0</th>\n",
              "      <td>41</td>\n",
              "      <td>Yes</td>\n",
              "      <td>Travel_Rarely</td>\n",
              "      <td>Sales</td>\n",
              "      <td>1</td>\n",
              "      <td>2</td>\n",
              "      <td>Life Sciences</td>\n",
              "      <td>2</td>\n",
              "      <td>94</td>\n",
              "      <td>3</td>\n",
              "      <td>...</td>\n",
              "      <td>3</td>\n",
              "      <td>1</td>\n",
              "      <td>0</td>\n",
              "      <td>8</td>\n",
              "      <td>0</td>\n",
              "      <td>1</td>\n",
              "      <td>6</td>\n",
              "      <td>4</td>\n",
              "      <td>0</td>\n",
              "      <td>5</td>\n",
              "    </tr>\n",
              "    <tr>\n",
              "      <th>1</th>\n",
              "      <td>49</td>\n",
              "      <td>No</td>\n",
              "      <td>Travel_Frequently</td>\n",
              "      <td>Research &amp; Development</td>\n",
              "      <td>8</td>\n",
              "      <td>1</td>\n",
              "      <td>Life Sciences</td>\n",
              "      <td>3</td>\n",
              "      <td>61</td>\n",
              "      <td>2</td>\n",
              "      <td>...</td>\n",
              "      <td>4</td>\n",
              "      <td>4</td>\n",
              "      <td>1</td>\n",
              "      <td>10</td>\n",
              "      <td>3</td>\n",
              "      <td>3</td>\n",
              "      <td>10</td>\n",
              "      <td>7</td>\n",
              "      <td>1</td>\n",
              "      <td>7</td>\n",
              "    </tr>\n",
              "    <tr>\n",
              "      <th>2</th>\n",
              "      <td>37</td>\n",
              "      <td>Yes</td>\n",
              "      <td>Travel_Rarely</td>\n",
              "      <td>Research &amp; Development</td>\n",
              "      <td>2</td>\n",
              "      <td>2</td>\n",
              "      <td>Other</td>\n",
              "      <td>4</td>\n",
              "      <td>92</td>\n",
              "      <td>2</td>\n",
              "      <td>...</td>\n",
              "      <td>3</td>\n",
              "      <td>2</td>\n",
              "      <td>0</td>\n",
              "      <td>7</td>\n",
              "      <td>3</td>\n",
              "      <td>3</td>\n",
              "      <td>0</td>\n",
              "      <td>0</td>\n",
              "      <td>0</td>\n",
              "      <td>0</td>\n",
              "    </tr>\n",
              "    <tr>\n",
              "      <th>3</th>\n",
              "      <td>33</td>\n",
              "      <td>No</td>\n",
              "      <td>Travel_Frequently</td>\n",
              "      <td>Research &amp; Development</td>\n",
              "      <td>3</td>\n",
              "      <td>4</td>\n",
              "      <td>Life Sciences</td>\n",
              "      <td>4</td>\n",
              "      <td>56</td>\n",
              "      <td>3</td>\n",
              "      <td>...</td>\n",
              "      <td>3</td>\n",
              "      <td>3</td>\n",
              "      <td>0</td>\n",
              "      <td>8</td>\n",
              "      <td>3</td>\n",
              "      <td>3</td>\n",
              "      <td>8</td>\n",
              "      <td>7</td>\n",
              "      <td>3</td>\n",
              "      <td>0</td>\n",
              "    </tr>\n",
              "    <tr>\n",
              "      <th>4</th>\n",
              "      <td>27</td>\n",
              "      <td>No</td>\n",
              "      <td>Travel_Rarely</td>\n",
              "      <td>Research &amp; Development</td>\n",
              "      <td>2</td>\n",
              "      <td>1</td>\n",
              "      <td>Medical</td>\n",
              "      <td>1</td>\n",
              "      <td>40</td>\n",
              "      <td>3</td>\n",
              "      <td>...</td>\n",
              "      <td>3</td>\n",
              "      <td>4</td>\n",
              "      <td>1</td>\n",
              "      <td>6</td>\n",
              "      <td>3</td>\n",
              "      <td>3</td>\n",
              "      <td>2</td>\n",
              "      <td>2</td>\n",
              "      <td>2</td>\n",
              "      <td>2</td>\n",
              "    </tr>\n",
              "  </tbody>\n",
              "</table>\n",
              "<p>5 rows × 27 columns</p>\n",
              "</div>"
            ],
            "text/plain": [
              "   Age Attrition     BusinessTravel              Department  DistanceFromHome  \\\n",
              "0   41       Yes      Travel_Rarely                   Sales                 1   \n",
              "1   49        No  Travel_Frequently  Research & Development                 8   \n",
              "2   37       Yes      Travel_Rarely  Research & Development                 2   \n",
              "3   33        No  Travel_Frequently  Research & Development                 3   \n",
              "4   27        No      Travel_Rarely  Research & Development                 2   \n",
              "\n",
              "   Education EducationField  EnvironmentSatisfaction  HourlyRate  \\\n",
              "0          2  Life Sciences                        2          94   \n",
              "1          1  Life Sciences                        3          61   \n",
              "2          2          Other                        4          92   \n",
              "3          4  Life Sciences                        4          56   \n",
              "4          1        Medical                        1          40   \n",
              "\n",
              "   JobInvolvement  ...  PerformanceRating RelationshipSatisfaction  \\\n",
              "0               3  ...                  3                        1   \n",
              "1               2  ...                  4                        4   \n",
              "2               2  ...                  3                        2   \n",
              "3               3  ...                  3                        3   \n",
              "4               3  ...                  3                        4   \n",
              "\n",
              "   StockOptionLevel TotalWorkingYears  TrainingTimesLastYear WorkLifeBalance  \\\n",
              "0                 0                 8                      0               1   \n",
              "1                 1                10                      3               3   \n",
              "2                 0                 7                      3               3   \n",
              "3                 0                 8                      3               3   \n",
              "4                 1                 6                      3               3   \n",
              "\n",
              "   YearsAtCompany  YearsInCurrentRole  YearsSinceLastPromotion  \\\n",
              "0               6                   4                        0   \n",
              "1              10                   7                        1   \n",
              "2               0                   0                        0   \n",
              "3               8                   7                        3   \n",
              "4               2                   2                        2   \n",
              "\n",
              "   YearsWithCurrManager  \n",
              "0                     5  \n",
              "1                     7  \n",
              "2                     0  \n",
              "3                     0  \n",
              "4                     2  \n",
              "\n",
              "[5 rows x 27 columns]"
            ]
          },
          "execution_count": 1,
          "metadata": {},
          "output_type": "execute_result"
        }
      ],
      "source": [
        "# Import our dependencies\n",
        "from sklearn.model_selection import train_test_split\n",
        "from sklearn.preprocessing import StandardScaler\n",
        "import pandas as pd\n",
        "import numpy as np\n",
        "from tensorflow.keras.models import Model\n",
        "from tensorflow.keras import layers\n",
        "\n",
        "#  Import and read the attrition data\n",
        "df = pd.read_csv('https://static.bc-edx.com/ai/ail-v-1-0/m19/lms/datasets/attrition.csv')\n",
        "df.head()"
      ]
    },
    {
      "cell_type": "code",
      "execution_count": 2,
      "metadata": {
        "colab": {
          "base_uri": "https://localhost:8080/"
        },
        "id": "g22aQSY4Gc3Q",
        "outputId": "1f5c13c1-b981-4e40-a7ed-dd3fe6f1b81e"
      },
      "outputs": [
        {
          "data": {
            "text/plain": [
              "Age                         43\n",
              "Attrition                    2\n",
              "BusinessTravel               3\n",
              "Department                   3\n",
              "DistanceFromHome            29\n",
              "Education                    5\n",
              "EducationField               6\n",
              "EnvironmentSatisfaction      4\n",
              "HourlyRate                  71\n",
              "JobInvolvement               4\n",
              "JobLevel                     5\n",
              "JobRole                      9\n",
              "JobSatisfaction              4\n",
              "MaritalStatus                3\n",
              "NumCompaniesWorked          10\n",
              "OverTime                     2\n",
              "PercentSalaryHike           15\n",
              "PerformanceRating            2\n",
              "RelationshipSatisfaction     4\n",
              "StockOptionLevel             4\n",
              "TotalWorkingYears           40\n",
              "TrainingTimesLastYear        7\n",
              "WorkLifeBalance              4\n",
              "YearsAtCompany              37\n",
              "YearsInCurrentRole          19\n",
              "YearsSinceLastPromotion     16\n",
              "YearsWithCurrManager        18\n",
              "dtype: int64"
            ]
          },
          "execution_count": 2,
          "metadata": {},
          "output_type": "execute_result"
        }
      ],
      "source": [
        "# Determine the number of unique values in each column.\n",
        "df.nunique()"
      ]
    },
    {
      "cell_type": "code",
      "execution_count": 3,
      "metadata": {
        "id": "50vMgBEnJbfM"
      },
      "outputs": [
        {
          "data": {
            "text/html": [
              "<div>\n",
              "<style scoped>\n",
              "    .dataframe tbody tr th:only-of-type {\n",
              "        vertical-align: middle;\n",
              "    }\n",
              "\n",
              "    .dataframe tbody tr th {\n",
              "        vertical-align: top;\n",
              "    }\n",
              "\n",
              "    .dataframe thead th {\n",
              "        text-align: right;\n",
              "    }\n",
              "</style>\n",
              "<table border=\"1\" class=\"dataframe\">\n",
              "  <thead>\n",
              "    <tr style=\"text-align: right;\">\n",
              "      <th></th>\n",
              "      <th>Attrition</th>\n",
              "      <th>Department</th>\n",
              "    </tr>\n",
              "  </thead>\n",
              "  <tbody>\n",
              "    <tr>\n",
              "      <th>0</th>\n",
              "      <td>Yes</td>\n",
              "      <td>Sales</td>\n",
              "    </tr>\n",
              "    <tr>\n",
              "      <th>1</th>\n",
              "      <td>No</td>\n",
              "      <td>Research &amp; Development</td>\n",
              "    </tr>\n",
              "    <tr>\n",
              "      <th>2</th>\n",
              "      <td>Yes</td>\n",
              "      <td>Research &amp; Development</td>\n",
              "    </tr>\n",
              "    <tr>\n",
              "      <th>3</th>\n",
              "      <td>No</td>\n",
              "      <td>Research &amp; Development</td>\n",
              "    </tr>\n",
              "    <tr>\n",
              "      <th>4</th>\n",
              "      <td>No</td>\n",
              "      <td>Research &amp; Development</td>\n",
              "    </tr>\n",
              "  </tbody>\n",
              "</table>\n",
              "</div>"
            ],
            "text/plain": [
              "  Attrition              Department\n",
              "0       Yes                   Sales\n",
              "1        No  Research & Development\n",
              "2       Yes  Research & Development\n",
              "3        No  Research & Development\n",
              "4        No  Research & Development"
            ]
          },
          "execution_count": 3,
          "metadata": {},
          "output_type": "execute_result"
        }
      ],
      "source": [
        "# Create y_df with the Attrition and Department columns\n",
        "y_df= df[['Attrition', 'Department']]\n",
        "y_df.head()\n"
      ]
    },
    {
      "cell_type": "code",
      "execution_count": 6,
      "metadata": {
        "colab": {
          "base_uri": "https://localhost:8080/"
        },
        "id": "Virka0zLGc3R",
        "outputId": "dd5aee3a-9458-4ba6-e857-1b234de40915"
      },
      "outputs": [
        {
          "data": {
            "text/plain": [
              "HourlyRate                 int64\n",
              "Age                        int64\n",
              "TotalWorkingYears          int64\n",
              "YearsAtCompany             int64\n",
              "DistanceFromHome           int64\n",
              "YearsInCurrentRole         int64\n",
              "YearsWithCurrManager       int64\n",
              "YearsSinceLastPromotion    int64\n",
              "PercentSalaryHike          int64\n",
              "NumCompaniesWorked         int64\n",
              "dtype: object"
            ]
          },
          "execution_count": 6,
          "metadata": {},
          "output_type": "execute_result"
        }
      ],
      "source": [
        "# Create a list of at least 10 column names to use as X data\n",
        "values = df.nunique().sort_values(ascending=False)\n",
        "top_10 = values.head(10)\n",
        "top_10 = values.head(10)\n",
        "X_columns = top_10.index.tolist()\n",
        "\n",
        "# Create X_df using your selected columns\n",
        "X_df = df[X_columns]\n",
        "\n",
        "# Show the data types for X_df\n",
        "X_df.dtypes"
      ]
    },
    {
      "cell_type": "code",
      "execution_count": 5,
      "metadata": {
        "colab": {
          "base_uri": "https://localhost:8080/"
        },
        "id": "NYubUJqiLCSp",
        "outputId": "53f31721-571c-4c94-d13e-25a715749593"
      },
      "outputs": [
        {
          "data": {
            "text/plain": [
              "'My X data(features) are all numerical.  Therefore I do not need to convert them'"
            ]
          },
          "execution_count": 5,
          "metadata": {},
          "output_type": "execute_result"
        }
      ],
      "source": [
        "# Convert your X data to numeric data types however you see fit\n",
        "# Add new code cells as necessary\n",
        "\"\"\"My X data(features) are all numerical.  Therefore I do not need to convert them\"\"\""
      ]
    },
    {
      "cell_type": "code",
      "execution_count": 7,
      "metadata": {},
      "outputs": [],
      "source": [
        "# Split the data into training and testing sets\n",
        "from sklearn.model_selection import train_test_split\n",
        "X_train, X_test, y_train, y_test = train_test_split(X_df, y_df, random_state=42)"
      ]
    },
    {
      "cell_type": "code",
      "execution_count": 9,
      "metadata": {},
      "outputs": [
        {
          "data": {
            "text/html": [
              "<div>\n",
              "<style scoped>\n",
              "    .dataframe tbody tr th:only-of-type {\n",
              "        vertical-align: middle;\n",
              "    }\n",
              "\n",
              "    .dataframe tbody tr th {\n",
              "        vertical-align: top;\n",
              "    }\n",
              "\n",
              "    .dataframe thead th {\n",
              "        text-align: right;\n",
              "    }\n",
              "</style>\n",
              "<table border=\"1\" class=\"dataframe\">\n",
              "  <thead>\n",
              "    <tr style=\"text-align: right;\">\n",
              "      <th></th>\n",
              "      <th>HourlyRate</th>\n",
              "      <th>Age</th>\n",
              "      <th>TotalWorkingYears</th>\n",
              "      <th>YearsAtCompany</th>\n",
              "      <th>DistanceFromHome</th>\n",
              "      <th>YearsInCurrentRole</th>\n",
              "      <th>YearsWithCurrManager</th>\n",
              "      <th>YearsSinceLastPromotion</th>\n",
              "      <th>PercentSalaryHike</th>\n",
              "      <th>NumCompaniesWorked</th>\n",
              "    </tr>\n",
              "  </thead>\n",
              "  <tbody>\n",
              "    <tr>\n",
              "      <th>1343</th>\n",
              "      <td>59</td>\n",
              "      <td>29</td>\n",
              "      <td>11</td>\n",
              "      <td>3</td>\n",
              "      <td>7</td>\n",
              "      <td>2</td>\n",
              "      <td>2</td>\n",
              "      <td>1</td>\n",
              "      <td>14</td>\n",
              "      <td>3</td>\n",
              "    </tr>\n",
              "    <tr>\n",
              "      <th>1121</th>\n",
              "      <td>73</td>\n",
              "      <td>36</td>\n",
              "      <td>15</td>\n",
              "      <td>1</td>\n",
              "      <td>1</td>\n",
              "      <td>0</td>\n",
              "      <td>0</td>\n",
              "      <td>0</td>\n",
              "      <td>13</td>\n",
              "      <td>6</td>\n",
              "    </tr>\n",
              "    <tr>\n",
              "      <th>1048</th>\n",
              "      <td>81</td>\n",
              "      <td>34</td>\n",
              "      <td>15</td>\n",
              "      <td>13</td>\n",
              "      <td>3</td>\n",
              "      <td>9</td>\n",
              "      <td>12</td>\n",
              "      <td>3</td>\n",
              "      <td>18</td>\n",
              "      <td>3</td>\n",
              "    </tr>\n",
              "    <tr>\n",
              "      <th>1393</th>\n",
              "      <td>44</td>\n",
              "      <td>27</td>\n",
              "      <td>7</td>\n",
              "      <td>7</td>\n",
              "      <td>9</td>\n",
              "      <td>7</td>\n",
              "      <td>7</td>\n",
              "      <td>0</td>\n",
              "      <td>14</td>\n",
              "      <td>1</td>\n",
              "    </tr>\n",
              "    <tr>\n",
              "      <th>527</th>\n",
              "      <td>55</td>\n",
              "      <td>32</td>\n",
              "      <td>10</td>\n",
              "      <td>10</td>\n",
              "      <td>10</td>\n",
              "      <td>7</td>\n",
              "      <td>8</td>\n",
              "      <td>0</td>\n",
              "      <td>12</td>\n",
              "      <td>1</td>\n",
              "    </tr>\n",
              "    <tr>\n",
              "      <th>...</th>\n",
              "      <td>...</td>\n",
              "      <td>...</td>\n",
              "      <td>...</td>\n",
              "      <td>...</td>\n",
              "      <td>...</td>\n",
              "      <td>...</td>\n",
              "      <td>...</td>\n",
              "      <td>...</td>\n",
              "      <td>...</td>\n",
              "      <td>...</td>\n",
              "    </tr>\n",
              "    <tr>\n",
              "      <th>1130</th>\n",
              "      <td>46</td>\n",
              "      <td>35</td>\n",
              "      <td>10</td>\n",
              "      <td>10</td>\n",
              "      <td>28</td>\n",
              "      <td>9</td>\n",
              "      <td>8</td>\n",
              "      <td>6</td>\n",
              "      <td>17</td>\n",
              "      <td>1</td>\n",
              "    </tr>\n",
              "    <tr>\n",
              "      <th>1294</th>\n",
              "      <td>85</td>\n",
              "      <td>41</td>\n",
              "      <td>11</td>\n",
              "      <td>3</td>\n",
              "      <td>5</td>\n",
              "      <td>2</td>\n",
              "      <td>2</td>\n",
              "      <td>1</td>\n",
              "      <td>12</td>\n",
              "      <td>3</td>\n",
              "    </tr>\n",
              "    <tr>\n",
              "      <th>860</th>\n",
              "      <td>48</td>\n",
              "      <td>22</td>\n",
              "      <td>1</td>\n",
              "      <td>0</td>\n",
              "      <td>3</td>\n",
              "      <td>0</td>\n",
              "      <td>0</td>\n",
              "      <td>0</td>\n",
              "      <td>11</td>\n",
              "      <td>0</td>\n",
              "    </tr>\n",
              "    <tr>\n",
              "      <th>1459</th>\n",
              "      <td>46</td>\n",
              "      <td>29</td>\n",
              "      <td>10</td>\n",
              "      <td>4</td>\n",
              "      <td>13</td>\n",
              "      <td>3</td>\n",
              "      <td>3</td>\n",
              "      <td>0</td>\n",
              "      <td>13</td>\n",
              "      <td>4</td>\n",
              "    </tr>\n",
              "    <tr>\n",
              "      <th>1126</th>\n",
              "      <td>59</td>\n",
              "      <td>50</td>\n",
              "      <td>27</td>\n",
              "      <td>1</td>\n",
              "      <td>9</td>\n",
              "      <td>0</td>\n",
              "      <td>0</td>\n",
              "      <td>0</td>\n",
              "      <td>16</td>\n",
              "      <td>4</td>\n",
              "    </tr>\n",
              "  </tbody>\n",
              "</table>\n",
              "<p>1102 rows × 10 columns</p>\n",
              "</div>"
            ],
            "text/plain": [
              "      HourlyRate  Age  TotalWorkingYears  YearsAtCompany  DistanceFromHome  \\\n",
              "1343          59   29                 11               3                 7   \n",
              "1121          73   36                 15               1                 1   \n",
              "1048          81   34                 15              13                 3   \n",
              "1393          44   27                  7               7                 9   \n",
              "527           55   32                 10              10                10   \n",
              "...          ...  ...                ...             ...               ...   \n",
              "1130          46   35                 10              10                28   \n",
              "1294          85   41                 11               3                 5   \n",
              "860           48   22                  1               0                 3   \n",
              "1459          46   29                 10               4                13   \n",
              "1126          59   50                 27               1                 9   \n",
              "\n",
              "      YearsInCurrentRole  YearsWithCurrManager  YearsSinceLastPromotion  \\\n",
              "1343                   2                     2                        1   \n",
              "1121                   0                     0                        0   \n",
              "1048                   9                    12                        3   \n",
              "1393                   7                     7                        0   \n",
              "527                    7                     8                        0   \n",
              "...                  ...                   ...                      ...   \n",
              "1130                   9                     8                        6   \n",
              "1294                   2                     2                        1   \n",
              "860                    0                     0                        0   \n",
              "1459                   3                     3                        0   \n",
              "1126                   0                     0                        0   \n",
              "\n",
              "      PercentSalaryHike  NumCompaniesWorked  \n",
              "1343                 14                   3  \n",
              "1121                 13                   6  \n",
              "1048                 18                   3  \n",
              "1393                 14                   1  \n",
              "527                  12                   1  \n",
              "...                 ...                 ...  \n",
              "1130                 17                   1  \n",
              "1294                 12                   3  \n",
              "860                  11                   0  \n",
              "1459                 13                   4  \n",
              "1126                 16                   4  \n",
              "\n",
              "[1102 rows x 10 columns]"
            ]
          },
          "execution_count": 9,
          "metadata": {},
          "output_type": "execute_result"
        }
      ],
      "source": [
        "X_train"
      ]
    },
    {
      "cell_type": "code",
      "execution_count": 10,
      "metadata": {
        "id": "EWA-aIA5Gc3T"
      },
      "outputs": [],
      "source": [
        "# Create a StandardScaler\n",
        "scaler = StandardScaler()\n",
        "\n",
        "# Fit the StandardScaler to the training data\n",
        "# Scale the training and testing data\n",
        "X_train_scaled = scaler.fit_transform(X_train)\n",
        "X_test_scaled = scaler.transform(X_test)\n"
      ]
    },
    {
      "cell_type": "code",
      "execution_count": 11,
      "metadata": {
        "colab": {
          "base_uri": "https://localhost:8080/"
        },
        "id": "-z0Mky8vQSz4",
        "outputId": "debefc85-c20b-48f5-f4d9-91eadd65d36a"
      },
      "outputs": [
        {
          "data": {
            "text/plain": [
              "array([[0., 1., 0.],\n",
              "       [0., 0., 1.],\n",
              "       [0., 0., 1.],\n",
              "       ...,\n",
              "       [0., 1., 0.],\n",
              "       [0., 1., 0.],\n",
              "       [0., 0., 1.]])"
            ]
          },
          "execution_count": 11,
          "metadata": {},
          "output_type": "execute_result"
        }
      ],
      "source": [
        "# Create a OneHotEncoder for the Department column\n",
        "from sklearn.preprocessing import OneHotEncoder\n",
        "\n",
        "department_encoder = OneHotEncoder(sparse_output=False, handle_unknown='ignore', drop=None)\n",
        "# Fit the encoder to the training data\n",
        "department_encoder.fit(np.array(y_train['Department']).reshape(-1, 1))\n",
        "\n",
        "# Create two new variables by applying the encoder\n",
        "# to the training and testing data\n",
        "\n",
        "y_department_train = department_encoder.transform(np.array(y_train['Department']).reshape(-1, 1))\n",
        "y_department_test = department_encoder.transform(np.array(y_test['Department']).reshape(-1, 1))\n",
        "y_department_train"
      ]
    },
    {
      "cell_type": "code",
      "execution_count": null,
      "metadata": {},
      "outputs": [],
      "source": []
    },
    {
      "cell_type": "code",
      "execution_count": 12,
      "metadata": {
        "colab": {
          "base_uri": "https://localhost:8080/"
        },
        "id": "-G4DSpvFRrk4",
        "outputId": "9842e948-8a55-4b80-8fac-f96714e85589"
      },
      "outputs": [
        {
          "data": {
            "text/plain": [
              "array([[1., 0.],\n",
              "       [1., 0.],\n",
              "       [1., 0.],\n",
              "       ...,\n",
              "       [0., 1.],\n",
              "       [1., 0.],\n",
              "       [1., 0.]])"
            ]
          },
          "execution_count": 12,
          "metadata": {},
          "output_type": "execute_result"
        }
      ],
      "source": [
        "# Create a OneHotEncoder for the Attrition column\n",
        "attrition_encoder = OneHotEncoder(sparse_output=False, handle_unknown='ignore', drop=None)\n",
        "# Fit the encoder to the training data\n",
        "attrition_encoder.fit(np.array(y_train['Attrition']).reshape(-1, 1))\n",
        "\n",
        "# Create two new variables by applying the encoder\n",
        "# to the training and testing data\n",
        "y_attrition_train = attrition_encoder.transform(np.array(y_train['Attrition']).reshape(-1, 1))\n",
        "y_attrition_test = attrition_encoder.transform(np.array(y_test['Attrition']).reshape(-1, 1))\n",
        "y_attrition_train\n"
      ]
    },
    {
      "cell_type": "markdown",
      "metadata": {
        "id": "ykNmu_WWGc3T"
      },
      "source": [
        "## Create, Compile, and Train the Model"
      ]
    },
    {
      "cell_type": "code",
      "execution_count": 13,
      "metadata": {
        "id": "WUptZqmSGc3T"
      },
      "outputs": [
        {
          "name": "stdout",
          "output_type": "stream",
          "text": [
            "WARNING:tensorflow:From c:\\Users\\traug\\anaconda3\\Lib\\site-packages\\keras\\src\\backend.py:1398: The name tf.executing_eagerly_outside_functions is deprecated. Please use tf.compat.v1.executing_eagerly_outside_functions instead.\n",
            "\n"
          ]
        }
      ],
      "source": [
        "# Find the number of columns in the X training data\n",
        "X_train_scaled.shape[1]\n",
        "\n",
        "# Create the input layer\n",
        "input_layer = layers.Input(shape = (X_train_scaled.shape[1],), name = \"input_features\")\n",
        "\n",
        "# Create at least two shared layers\n",
        "shared_layer_1 = layers.Dense(units=64, activation='relu', name='shared_layer_1')(input_layer)\n",
        "shared_layer_2 = layers.Dense(units=32, activation='relu', name='shared_layer_2')(shared_layer_1)\n",
        "shared_layer_3 = layers.Dense(units=3, activation='relu', name='shared_layer_3')(shared_layer_2)"
      ]
    },
    {
      "cell_type": "code",
      "execution_count": 14,
      "metadata": {
        "id": "JukjTm2yTEqd"
      },
      "outputs": [],
      "source": [
        "# Create a branch for Department with a hidden layer and an output layer\n",
        "\n",
        "# Create the hidden layer\n",
        "# Create the output layer\n",
        "department_output = layers.Dense(3, activation='softmax', name='department_output')(shared_layer_2)\n"
      ]
    },
    {
      "cell_type": "code",
      "execution_count": 15,
      "metadata": {
        "id": "9OqhUiOJUBkR"
      },
      "outputs": [],
      "source": [
        "# Create a branch for Attrition with a hidden layer and an output layer\n",
        "\n",
        "# Create the hidden layer\n",
        "# Create the output layer\n",
        "attrition_output = layers.Dense(2, activation='softmax', name='attrition_output')(shared_layer_2)\n"
      ]
    },
    {
      "cell_type": "code",
      "execution_count": 16,
      "metadata": {
        "colab": {
          "base_uri": "https://localhost:8080/"
        },
        "id": "twmuejdxGc3T",
        "outputId": "25096308-b68b-42e4-e4ea-ae82e97c435a"
      },
      "outputs": [
        {
          "name": "stdout",
          "output_type": "stream",
          "text": [
            "WARNING:tensorflow:From c:\\Users\\traug\\anaconda3\\Lib\\site-packages\\keras\\src\\optimizers\\__init__.py:309: The name tf.train.Optimizer is deprecated. Please use tf.compat.v1.train.Optimizer instead.\n",
            "\n",
            "Model: \"model\"\n",
            "__________________________________________________________________________________________________\n",
            " Layer (type)                Output Shape                 Param #   Connected to                  \n",
            "==================================================================================================\n",
            " input_features (InputLayer  [(None, 10)]                 0         []                            \n",
            " )                                                                                                \n",
            "                                                                                                  \n",
            " shared_layer_1 (Dense)      (None, 64)                   704       ['input_features[0][0]']      \n",
            "                                                                                                  \n",
            " shared_layer_2 (Dense)      (None, 32)                   2080      ['shared_layer_1[0][0]']      \n",
            "                                                                                                  \n",
            " department_output (Dense)   (None, 3)                    99        ['shared_layer_2[0][0]']      \n",
            "                                                                                                  \n",
            " attrition_output (Dense)    (None, 2)                    66        ['shared_layer_2[0][0]']      \n",
            "                                                                                                  \n",
            "==================================================================================================\n",
            "Total params: 2949 (11.52 KB)\n",
            "Trainable params: 2949 (11.52 KB)\n",
            "Non-trainable params: 0 (0.00 Byte)\n",
            "__________________________________________________________________________________________________\n"
          ]
        }
      ],
      "source": [
        "# Create the model\n",
        "model = Model(inputs=input_layer, outputs=[department_output, attrition_output])\n",
        "\n",
        "# Compile the model\n",
        "model.compile(optimizer='adam',\n",
        "              loss={'department_output': 'categorical_crossentropy', 'attrition_output': 'categorical_crossentropy'},\n",
        "              metrics={'department_output': 'accuracy', 'attrition_output': 'accuracy'})\n",
        "\n",
        "# Summarize the model\n",
        "model.summary()"
      ]
    },
    {
      "cell_type": "code",
      "execution_count": 17,
      "metadata": {
        "colab": {
          "base_uri": "https://localhost:8080/"
        },
        "id": "c8oGy0dpGc3U",
        "outputId": "cc667d43-28cf-42d4-d719-c2bc02888d30"
      },
      "outputs": [
        {
          "name": "stdout",
          "output_type": "stream",
          "text": [
            "Epoch 1/100\n",
            "WARNING:tensorflow:From c:\\Users\\traug\\anaconda3\\Lib\\site-packages\\keras\\src\\engine\\base_layer_utils.py:384: The name tf.executing_eagerly_outside_functions is deprecated. Please use tf.compat.v1.executing_eagerly_outside_functions instead.\n",
            "\n",
            "WARNING:tensorflow:From c:\\Users\\traug\\anaconda3\\Lib\\site-packages\\keras\\src\\utils\\tf_utils.py:492: The name tf.ragged.RaggedTensorValue is deprecated. Please use tf.compat.v1.ragged.RaggedTensorValue instead.\n",
            "\n",
            "35/35 - 2s - loss: 1.5300 - department_output_loss: 0.9061 - attrition_output_loss: 0.6239 - department_output_accuracy: 0.5889 - attrition_output_accuracy: 0.6561 - 2s/epoch - 57ms/step\n",
            "Epoch 2/100\n",
            "35/35 - 0s - loss: 1.2677 - department_output_loss: 0.7957 - attrition_output_loss: 0.4720 - department_output_accuracy: 0.6543 - attrition_output_accuracy: 0.8276 - 78ms/epoch - 2ms/step\n",
            "Epoch 3/100\n",
            "35/35 - 0s - loss: 1.2257 - department_output_loss: 0.7767 - attrition_output_loss: 0.4490 - department_output_accuracy: 0.6552 - attrition_output_accuracy: 0.8285 - 68ms/epoch - 2ms/step\n",
            "Epoch 4/100\n",
            "35/35 - 0s - loss: 1.2057 - department_output_loss: 0.7691 - attrition_output_loss: 0.4366 - department_output_accuracy: 0.6552 - attrition_output_accuracy: 0.8285 - 69ms/epoch - 2ms/step\n",
            "Epoch 5/100\n",
            "35/35 - 0s - loss: 1.1883 - department_output_loss: 0.7630 - attrition_output_loss: 0.4253 - department_output_accuracy: 0.6570 - attrition_output_accuracy: 0.8285 - 71ms/epoch - 2ms/step\n",
            "Epoch 6/100\n",
            "35/35 - 0s - loss: 1.1756 - department_output_loss: 0.7576 - attrition_output_loss: 0.4180 - department_output_accuracy: 0.6561 - attrition_output_accuracy: 0.8303 - 72ms/epoch - 2ms/step\n",
            "Epoch 7/100\n",
            "35/35 - 0s - loss: 1.1659 - department_output_loss: 0.7528 - attrition_output_loss: 0.4131 - department_output_accuracy: 0.6597 - attrition_output_accuracy: 0.8330 - 81ms/epoch - 2ms/step\n",
            "Epoch 8/100\n",
            "35/35 - 0s - loss: 1.1585 - department_output_loss: 0.7500 - attrition_output_loss: 0.4085 - department_output_accuracy: 0.6561 - attrition_output_accuracy: 0.8339 - 82ms/epoch - 2ms/step\n",
            "Epoch 9/100\n",
            "35/35 - 0s - loss: 1.1513 - department_output_loss: 0.7457 - attrition_output_loss: 0.4055 - department_output_accuracy: 0.6561 - attrition_output_accuracy: 0.8367 - 96ms/epoch - 3ms/step\n",
            "Epoch 10/100\n",
            "35/35 - 0s - loss: 1.1431 - department_output_loss: 0.7421 - attrition_output_loss: 0.4010 - department_output_accuracy: 0.6543 - attrition_output_accuracy: 0.8385 - 75ms/epoch - 2ms/step\n",
            "Epoch 11/100\n",
            "35/35 - 0s - loss: 1.1379 - department_output_loss: 0.7403 - attrition_output_loss: 0.3977 - department_output_accuracy: 0.6561 - attrition_output_accuracy: 0.8385 - 89ms/epoch - 3ms/step\n",
            "Epoch 12/100\n",
            "35/35 - 0s - loss: 1.1351 - department_output_loss: 0.7370 - attrition_output_loss: 0.3980 - department_output_accuracy: 0.6552 - attrition_output_accuracy: 0.8339 - 91ms/epoch - 3ms/step\n",
            "Epoch 13/100\n",
            "35/35 - 0s - loss: 1.1280 - department_output_loss: 0.7338 - attrition_output_loss: 0.3942 - department_output_accuracy: 0.6633 - attrition_output_accuracy: 0.8385 - 80ms/epoch - 2ms/step\n",
            "Epoch 14/100\n",
            "35/35 - 0s - loss: 1.1222 - department_output_loss: 0.7310 - attrition_output_loss: 0.3912 - department_output_accuracy: 0.6588 - attrition_output_accuracy: 0.8421 - 75ms/epoch - 2ms/step\n",
            "Epoch 15/100\n",
            "35/35 - 0s - loss: 1.1193 - department_output_loss: 0.7281 - attrition_output_loss: 0.3912 - department_output_accuracy: 0.6561 - attrition_output_accuracy: 0.8385 - 76ms/epoch - 2ms/step\n",
            "Epoch 16/100\n",
            "35/35 - 0s - loss: 1.1143 - department_output_loss: 0.7263 - attrition_output_loss: 0.3881 - department_output_accuracy: 0.6606 - attrition_output_accuracy: 0.8403 - 149ms/epoch - 4ms/step\n",
            "Epoch 17/100\n",
            "35/35 - 0s - loss: 1.1094 - department_output_loss: 0.7227 - attrition_output_loss: 0.3866 - department_output_accuracy: 0.6597 - attrition_output_accuracy: 0.8421 - 83ms/epoch - 2ms/step\n",
            "Epoch 18/100\n",
            "35/35 - 0s - loss: 1.1058 - department_output_loss: 0.7214 - attrition_output_loss: 0.3844 - department_output_accuracy: 0.6615 - attrition_output_accuracy: 0.8430 - 88ms/epoch - 3ms/step\n",
            "Epoch 19/100\n",
            "35/35 - 0s - loss: 1.0994 - department_output_loss: 0.7176 - attrition_output_loss: 0.3818 - department_output_accuracy: 0.6624 - attrition_output_accuracy: 0.8421 - 88ms/epoch - 3ms/step\n",
            "Epoch 20/100\n",
            "35/35 - 0s - loss: 1.0970 - department_output_loss: 0.7153 - attrition_output_loss: 0.3817 - department_output_accuracy: 0.6661 - attrition_output_accuracy: 0.8448 - 79ms/epoch - 2ms/step\n",
            "Epoch 21/100\n",
            "35/35 - 0s - loss: 1.0928 - department_output_loss: 0.7117 - attrition_output_loss: 0.3811 - department_output_accuracy: 0.6670 - attrition_output_accuracy: 0.8439 - 68ms/epoch - 2ms/step\n",
            "Epoch 22/100\n",
            "35/35 - 0s - loss: 1.0881 - department_output_loss: 0.7101 - attrition_output_loss: 0.3780 - department_output_accuracy: 0.6706 - attrition_output_accuracy: 0.8412 - 78ms/epoch - 2ms/step\n",
            "Epoch 23/100\n",
            "35/35 - 0s - loss: 1.0872 - department_output_loss: 0.7097 - attrition_output_loss: 0.3775 - department_output_accuracy: 0.6679 - attrition_output_accuracy: 0.8475 - 94ms/epoch - 3ms/step\n",
            "Epoch 24/100\n",
            "35/35 - 0s - loss: 1.0804 - department_output_loss: 0.7054 - attrition_output_loss: 0.3751 - department_output_accuracy: 0.6833 - attrition_output_accuracy: 0.8466 - 83ms/epoch - 2ms/step\n",
            "Epoch 25/100\n",
            "35/35 - 0s - loss: 1.0740 - department_output_loss: 0.7013 - attrition_output_loss: 0.3727 - department_output_accuracy: 0.6661 - attrition_output_accuracy: 0.8457 - 84ms/epoch - 2ms/step\n",
            "Epoch 26/100\n",
            "35/35 - 0s - loss: 1.0711 - department_output_loss: 0.6997 - attrition_output_loss: 0.3715 - department_output_accuracy: 0.6742 - attrition_output_accuracy: 0.8503 - 79ms/epoch - 2ms/step\n",
            "Epoch 27/100\n",
            "35/35 - 0s - loss: 1.0684 - department_output_loss: 0.6981 - attrition_output_loss: 0.3703 - department_output_accuracy: 0.6788 - attrition_output_accuracy: 0.8430 - 64ms/epoch - 2ms/step\n",
            "Epoch 28/100\n",
            "35/35 - 0s - loss: 1.0634 - department_output_loss: 0.6946 - attrition_output_loss: 0.3688 - department_output_accuracy: 0.6742 - attrition_output_accuracy: 0.8548 - 83ms/epoch - 2ms/step\n",
            "Epoch 29/100\n",
            "35/35 - 0s - loss: 1.0584 - department_output_loss: 0.6912 - attrition_output_loss: 0.3672 - department_output_accuracy: 0.6742 - attrition_output_accuracy: 0.8421 - 90ms/epoch - 3ms/step\n",
            "Epoch 30/100\n",
            "35/35 - 0s - loss: 1.0548 - department_output_loss: 0.6892 - attrition_output_loss: 0.3656 - department_output_accuracy: 0.6770 - attrition_output_accuracy: 0.8530 - 72ms/epoch - 2ms/step\n",
            "Epoch 31/100\n",
            "35/35 - 0s - loss: 1.0492 - department_output_loss: 0.6853 - attrition_output_loss: 0.3639 - department_output_accuracy: 0.6842 - attrition_output_accuracy: 0.8485 - 71ms/epoch - 2ms/step\n",
            "Epoch 32/100\n",
            "35/35 - 0s - loss: 1.0488 - department_output_loss: 0.6871 - attrition_output_loss: 0.3616 - department_output_accuracy: 0.6760 - attrition_output_accuracy: 0.8512 - 80ms/epoch - 2ms/step\n",
            "Epoch 33/100\n",
            "35/35 - 0s - loss: 1.0382 - department_output_loss: 0.6801 - attrition_output_loss: 0.3580 - department_output_accuracy: 0.6833 - attrition_output_accuracy: 0.8512 - 72ms/epoch - 2ms/step\n",
            "Epoch 34/100\n",
            "35/35 - 0s - loss: 1.0389 - department_output_loss: 0.6802 - attrition_output_loss: 0.3588 - department_output_accuracy: 0.6824 - attrition_output_accuracy: 0.8503 - 76ms/epoch - 2ms/step\n",
            "Epoch 35/100\n",
            "35/35 - 0s - loss: 1.0363 - department_output_loss: 0.6796 - attrition_output_loss: 0.3566 - department_output_accuracy: 0.6779 - attrition_output_accuracy: 0.8548 - 71ms/epoch - 2ms/step\n",
            "Epoch 36/100\n",
            "35/35 - 0s - loss: 1.0314 - department_output_loss: 0.6748 - attrition_output_loss: 0.3566 - department_output_accuracy: 0.6824 - attrition_output_accuracy: 0.8530 - 73ms/epoch - 2ms/step\n",
            "Epoch 37/100\n",
            "35/35 - 0s - loss: 1.0264 - department_output_loss: 0.6735 - attrition_output_loss: 0.3528 - department_output_accuracy: 0.6869 - attrition_output_accuracy: 0.8457 - 73ms/epoch - 2ms/step\n",
            "Epoch 38/100\n",
            "35/35 - 0s - loss: 1.0206 - department_output_loss: 0.6671 - attrition_output_loss: 0.3535 - department_output_accuracy: 0.6897 - attrition_output_accuracy: 0.8503 - 77ms/epoch - 2ms/step\n",
            "Epoch 39/100\n",
            "35/35 - 0s - loss: 1.0233 - department_output_loss: 0.6681 - attrition_output_loss: 0.3552 - department_output_accuracy: 0.6869 - attrition_output_accuracy: 0.8548 - 77ms/epoch - 2ms/step\n",
            "Epoch 40/100\n",
            "35/35 - 0s - loss: 1.0115 - department_output_loss: 0.6638 - attrition_output_loss: 0.3477 - department_output_accuracy: 0.6897 - attrition_output_accuracy: 0.8530 - 73ms/epoch - 2ms/step\n",
            "Epoch 41/100\n",
            "35/35 - 0s - loss: 1.0074 - department_output_loss: 0.6618 - attrition_output_loss: 0.3457 - department_output_accuracy: 0.6933 - attrition_output_accuracy: 0.8557 - 88ms/epoch - 3ms/step\n",
            "Epoch 42/100\n",
            "35/35 - 0s - loss: 1.0052 - department_output_loss: 0.6602 - attrition_output_loss: 0.3450 - department_output_accuracy: 0.6878 - attrition_output_accuracy: 0.8584 - 96ms/epoch - 3ms/step\n",
            "Epoch 43/100\n",
            "35/35 - 0s - loss: 1.0000 - department_output_loss: 0.6578 - attrition_output_loss: 0.3422 - department_output_accuracy: 0.6924 - attrition_output_accuracy: 0.8593 - 90ms/epoch - 3ms/step\n",
            "Epoch 44/100\n",
            "35/35 - 0s - loss: 0.9913 - department_output_loss: 0.6495 - attrition_output_loss: 0.3417 - department_output_accuracy: 0.6960 - attrition_output_accuracy: 0.8566 - 76ms/epoch - 2ms/step\n",
            "Epoch 45/100\n",
            "35/35 - 0s - loss: 0.9904 - department_output_loss: 0.6504 - attrition_output_loss: 0.3400 - department_output_accuracy: 0.6987 - attrition_output_accuracy: 0.8612 - 88ms/epoch - 3ms/step\n",
            "Epoch 46/100\n",
            "35/35 - 0s - loss: 0.9823 - department_output_loss: 0.6444 - attrition_output_loss: 0.3380 - department_output_accuracy: 0.7024 - attrition_output_accuracy: 0.8566 - 86ms/epoch - 2ms/step\n",
            "Epoch 47/100\n",
            "35/35 - 0s - loss: 0.9810 - department_output_loss: 0.6441 - attrition_output_loss: 0.3369 - department_output_accuracy: 0.7015 - attrition_output_accuracy: 0.8584 - 90ms/epoch - 3ms/step\n",
            "Epoch 48/100\n",
            "35/35 - 0s - loss: 0.9800 - department_output_loss: 0.6425 - attrition_output_loss: 0.3375 - department_output_accuracy: 0.7024 - attrition_output_accuracy: 0.8575 - 80ms/epoch - 2ms/step\n",
            "Epoch 49/100\n",
            "35/35 - 0s - loss: 0.9728 - department_output_loss: 0.6388 - attrition_output_loss: 0.3340 - department_output_accuracy: 0.7087 - attrition_output_accuracy: 0.8603 - 125ms/epoch - 4ms/step\n",
            "Epoch 50/100\n",
            "35/35 - 0s - loss: 0.9674 - department_output_loss: 0.6352 - attrition_output_loss: 0.3322 - department_output_accuracy: 0.7078 - attrition_output_accuracy: 0.8630 - 68ms/epoch - 2ms/step\n",
            "Epoch 51/100\n",
            "35/35 - 0s - loss: 0.9611 - department_output_loss: 0.6306 - attrition_output_loss: 0.3305 - department_output_accuracy: 0.7105 - attrition_output_accuracy: 0.8648 - 79ms/epoch - 2ms/step\n",
            "Epoch 52/100\n",
            "35/35 - 0s - loss: 0.9549 - department_output_loss: 0.6266 - attrition_output_loss: 0.3282 - department_output_accuracy: 0.7069 - attrition_output_accuracy: 0.8639 - 74ms/epoch - 2ms/step\n",
            "Epoch 53/100\n",
            "35/35 - 0s - loss: 0.9517 - department_output_loss: 0.6254 - attrition_output_loss: 0.3263 - department_output_accuracy: 0.7114 - attrition_output_accuracy: 0.8666 - 65ms/epoch - 2ms/step\n",
            "Epoch 54/100\n",
            "35/35 - 0s - loss: 0.9482 - department_output_loss: 0.6228 - attrition_output_loss: 0.3253 - department_output_accuracy: 0.7278 - attrition_output_accuracy: 0.8702 - 72ms/epoch - 2ms/step\n",
            "Epoch 55/100\n",
            "35/35 - 0s - loss: 0.9461 - department_output_loss: 0.6212 - attrition_output_loss: 0.3249 - department_output_accuracy: 0.7123 - attrition_output_accuracy: 0.8657 - 69ms/epoch - 2ms/step\n",
            "Epoch 56/100\n",
            "35/35 - 0s - loss: 0.9367 - department_output_loss: 0.6149 - attrition_output_loss: 0.3218 - department_output_accuracy: 0.7305 - attrition_output_accuracy: 0.8675 - 75ms/epoch - 2ms/step\n",
            "Epoch 57/100\n",
            "35/35 - 0s - loss: 0.9393 - department_output_loss: 0.6160 - attrition_output_loss: 0.3233 - department_output_accuracy: 0.7287 - attrition_output_accuracy: 0.8684 - 74ms/epoch - 2ms/step\n",
            "Epoch 58/100\n",
            "35/35 - 0s - loss: 0.9337 - department_output_loss: 0.6142 - attrition_output_loss: 0.3195 - department_output_accuracy: 0.7142 - attrition_output_accuracy: 0.8648 - 68ms/epoch - 2ms/step\n",
            "Epoch 59/100\n",
            "35/35 - 0s - loss: 0.9263 - department_output_loss: 0.6076 - attrition_output_loss: 0.3187 - department_output_accuracy: 0.7323 - attrition_output_accuracy: 0.8684 - 84ms/epoch - 2ms/step\n",
            "Epoch 60/100\n",
            "35/35 - 0s - loss: 0.9293 - department_output_loss: 0.6123 - attrition_output_loss: 0.3170 - department_output_accuracy: 0.7287 - attrition_output_accuracy: 0.8721 - 67ms/epoch - 2ms/step\n",
            "Epoch 61/100\n",
            "35/35 - 0s - loss: 0.9201 - department_output_loss: 0.6055 - attrition_output_loss: 0.3146 - department_output_accuracy: 0.7241 - attrition_output_accuracy: 0.8684 - 71ms/epoch - 2ms/step\n",
            "Epoch 62/100\n",
            "35/35 - 0s - loss: 0.9169 - department_output_loss: 0.6014 - attrition_output_loss: 0.3155 - department_output_accuracy: 0.7305 - attrition_output_accuracy: 0.8730 - 76ms/epoch - 2ms/step\n",
            "Epoch 63/100\n",
            "35/35 - 0s - loss: 0.9109 - department_output_loss: 0.5984 - attrition_output_loss: 0.3126 - department_output_accuracy: 0.7414 - attrition_output_accuracy: 0.8757 - 66ms/epoch - 2ms/step\n",
            "Epoch 64/100\n",
            "35/35 - 0s - loss: 0.9112 - department_output_loss: 0.5966 - attrition_output_loss: 0.3146 - department_output_accuracy: 0.7359 - attrition_output_accuracy: 0.8711 - 70ms/epoch - 2ms/step\n",
            "Epoch 65/100\n",
            "35/35 - 0s - loss: 0.9060 - department_output_loss: 0.5959 - attrition_output_loss: 0.3101 - department_output_accuracy: 0.7305 - attrition_output_accuracy: 0.8766 - 77ms/epoch - 2ms/step\n",
            "Epoch 66/100\n",
            "35/35 - 0s - loss: 0.9046 - department_output_loss: 0.5911 - attrition_output_loss: 0.3135 - department_output_accuracy: 0.7350 - attrition_output_accuracy: 0.8639 - 83ms/epoch - 2ms/step\n",
            "Epoch 67/100\n",
            "35/35 - 0s - loss: 0.8962 - department_output_loss: 0.5898 - attrition_output_loss: 0.3064 - department_output_accuracy: 0.7359 - attrition_output_accuracy: 0.8757 - 81ms/epoch - 2ms/step\n",
            "Epoch 68/100\n",
            "35/35 - 0s - loss: 0.8970 - department_output_loss: 0.5931 - attrition_output_loss: 0.3040 - department_output_accuracy: 0.7414 - attrition_output_accuracy: 0.8702 - 81ms/epoch - 2ms/step\n",
            "Epoch 69/100\n",
            "35/35 - 0s - loss: 0.8886 - department_output_loss: 0.5823 - attrition_output_loss: 0.3063 - department_output_accuracy: 0.7405 - attrition_output_accuracy: 0.8721 - 82ms/epoch - 2ms/step\n",
            "Epoch 70/100\n",
            "35/35 - 0s - loss: 0.8886 - department_output_loss: 0.5860 - attrition_output_loss: 0.3026 - department_output_accuracy: 0.7486 - attrition_output_accuracy: 0.8730 - 79ms/epoch - 2ms/step\n",
            "Epoch 71/100\n",
            "35/35 - 0s - loss: 0.8771 - department_output_loss: 0.5748 - attrition_output_loss: 0.3023 - department_output_accuracy: 0.7514 - attrition_output_accuracy: 0.8730 - 74ms/epoch - 2ms/step\n",
            "Epoch 72/100\n",
            "35/35 - 0s - loss: 0.8803 - department_output_loss: 0.5786 - attrition_output_loss: 0.3017 - department_output_accuracy: 0.7541 - attrition_output_accuracy: 0.8802 - 78ms/epoch - 2ms/step\n",
            "Epoch 73/100\n",
            "35/35 - 0s - loss: 0.8729 - department_output_loss: 0.5728 - attrition_output_loss: 0.3000 - department_output_accuracy: 0.7495 - attrition_output_accuracy: 0.8829 - 72ms/epoch - 2ms/step\n",
            "Epoch 74/100\n",
            "35/35 - 0s - loss: 0.8705 - department_output_loss: 0.5702 - attrition_output_loss: 0.3003 - department_output_accuracy: 0.7505 - attrition_output_accuracy: 0.8748 - 83ms/epoch - 2ms/step\n",
            "Epoch 75/100\n",
            "35/35 - 0s - loss: 0.8690 - department_output_loss: 0.5679 - attrition_output_loss: 0.3011 - department_output_accuracy: 0.7505 - attrition_output_accuracy: 0.8784 - 65ms/epoch - 2ms/step\n",
            "Epoch 76/100\n",
            "35/35 - 0s - loss: 0.8585 - department_output_loss: 0.5643 - attrition_output_loss: 0.2942 - department_output_accuracy: 0.7459 - attrition_output_accuracy: 0.8793 - 77ms/epoch - 2ms/step\n",
            "Epoch 77/100\n",
            "35/35 - 0s - loss: 0.8544 - department_output_loss: 0.5616 - attrition_output_loss: 0.2928 - department_output_accuracy: 0.7595 - attrition_output_accuracy: 0.8793 - 77ms/epoch - 2ms/step\n",
            "Epoch 78/100\n",
            "35/35 - 0s - loss: 0.8545 - department_output_loss: 0.5629 - attrition_output_loss: 0.2916 - department_output_accuracy: 0.7641 - attrition_output_accuracy: 0.8829 - 67ms/epoch - 2ms/step\n",
            "Epoch 79/100\n",
            "35/35 - 0s - loss: 0.8518 - department_output_loss: 0.5592 - attrition_output_loss: 0.2926 - department_output_accuracy: 0.7623 - attrition_output_accuracy: 0.8820 - 81ms/epoch - 2ms/step\n",
            "Epoch 80/100\n",
            "35/35 - 0s - loss: 0.8429 - department_output_loss: 0.5541 - attrition_output_loss: 0.2889 - department_output_accuracy: 0.7695 - attrition_output_accuracy: 0.8820 - 66ms/epoch - 2ms/step\n",
            "Epoch 81/100\n",
            "35/35 - 0s - loss: 0.8387 - department_output_loss: 0.5514 - attrition_output_loss: 0.2873 - department_output_accuracy: 0.7632 - attrition_output_accuracy: 0.8866 - 93ms/epoch - 3ms/step\n",
            "Epoch 82/100\n",
            "35/35 - 0s - loss: 0.8385 - department_output_loss: 0.5512 - attrition_output_loss: 0.2873 - department_output_accuracy: 0.7641 - attrition_output_accuracy: 0.8829 - 72ms/epoch - 2ms/step\n",
            "Epoch 83/100\n",
            "35/35 - 0s - loss: 0.8357 - department_output_loss: 0.5508 - attrition_output_loss: 0.2848 - department_output_accuracy: 0.7659 - attrition_output_accuracy: 0.8902 - 74ms/epoch - 2ms/step\n",
            "Epoch 84/100\n",
            "35/35 - 0s - loss: 0.8349 - department_output_loss: 0.5513 - attrition_output_loss: 0.2836 - department_output_accuracy: 0.7686 - attrition_output_accuracy: 0.8820 - 71ms/epoch - 2ms/step\n",
            "Epoch 85/100\n",
            "35/35 - 0s - loss: 0.8261 - department_output_loss: 0.5427 - attrition_output_loss: 0.2833 - department_output_accuracy: 0.7713 - attrition_output_accuracy: 0.8838 - 79ms/epoch - 2ms/step\n",
            "Epoch 86/100\n",
            "35/35 - 0s - loss: 0.8201 - department_output_loss: 0.5381 - attrition_output_loss: 0.2820 - department_output_accuracy: 0.7740 - attrition_output_accuracy: 0.8848 - 104ms/epoch - 3ms/step\n",
            "Epoch 87/100\n",
            "35/35 - 0s - loss: 0.8208 - department_output_loss: 0.5390 - attrition_output_loss: 0.2818 - department_output_accuracy: 0.7686 - attrition_output_accuracy: 0.8848 - 69ms/epoch - 2ms/step\n",
            "Epoch 88/100\n",
            "35/35 - 0s - loss: 0.8131 - department_output_loss: 0.5357 - attrition_output_loss: 0.2774 - department_output_accuracy: 0.7831 - attrition_output_accuracy: 0.8884 - 79ms/epoch - 2ms/step\n",
            "Epoch 89/100\n",
            "35/35 - 0s - loss: 0.8164 - department_output_loss: 0.5380 - attrition_output_loss: 0.2784 - department_output_accuracy: 0.7768 - attrition_output_accuracy: 0.8875 - 72ms/epoch - 2ms/step\n",
            "Epoch 90/100\n",
            "35/35 - 0s - loss: 0.8109 - department_output_loss: 0.5342 - attrition_output_loss: 0.2767 - department_output_accuracy: 0.7750 - attrition_output_accuracy: 0.8838 - 83ms/epoch - 2ms/step\n",
            "Epoch 91/100\n",
            "35/35 - 0s - loss: 0.8072 - department_output_loss: 0.5320 - attrition_output_loss: 0.2753 - department_output_accuracy: 0.7786 - attrition_output_accuracy: 0.8857 - 77ms/epoch - 2ms/step\n",
            "Epoch 92/100\n",
            "35/35 - 0s - loss: 0.8018 - department_output_loss: 0.5278 - attrition_output_loss: 0.2740 - department_output_accuracy: 0.7740 - attrition_output_accuracy: 0.8920 - 70ms/epoch - 2ms/step\n",
            "Epoch 93/100\n",
            "35/35 - 0s - loss: 0.7996 - department_output_loss: 0.5271 - attrition_output_loss: 0.2725 - department_output_accuracy: 0.7704 - attrition_output_accuracy: 0.8902 - 86ms/epoch - 2ms/step\n",
            "Epoch 94/100\n",
            "35/35 - 0s - loss: 0.8014 - department_output_loss: 0.5266 - attrition_output_loss: 0.2748 - department_output_accuracy: 0.7804 - attrition_output_accuracy: 0.8929 - 77ms/epoch - 2ms/step\n",
            "Epoch 95/100\n",
            "35/35 - 0s - loss: 0.7905 - department_output_loss: 0.5183 - attrition_output_loss: 0.2722 - department_output_accuracy: 0.7831 - attrition_output_accuracy: 0.8902 - 73ms/epoch - 2ms/step\n",
            "Epoch 96/100\n",
            "35/35 - 0s - loss: 0.7911 - department_output_loss: 0.5179 - attrition_output_loss: 0.2732 - department_output_accuracy: 0.7813 - attrition_output_accuracy: 0.8829 - 80ms/epoch - 2ms/step\n",
            "Epoch 97/100\n",
            "35/35 - 0s - loss: 0.7888 - department_output_loss: 0.5199 - attrition_output_loss: 0.2689 - department_output_accuracy: 0.7768 - attrition_output_accuracy: 0.8911 - 74ms/epoch - 2ms/step\n",
            "Epoch 98/100\n",
            "35/35 - 0s - loss: 0.7816 - department_output_loss: 0.5143 - attrition_output_loss: 0.2673 - department_output_accuracy: 0.7858 - attrition_output_accuracy: 0.8947 - 77ms/epoch - 2ms/step\n",
            "Epoch 99/100\n",
            "35/35 - 0s - loss: 0.7782 - department_output_loss: 0.5121 - attrition_output_loss: 0.2662 - department_output_accuracy: 0.7831 - attrition_output_accuracy: 0.8893 - 76ms/epoch - 2ms/step\n",
            "Epoch 100/100\n",
            "35/35 - 0s - loss: 0.7777 - department_output_loss: 0.5140 - attrition_output_loss: 0.2638 - department_output_accuracy: 0.7877 - attrition_output_accuracy: 0.8884 - 79ms/epoch - 2ms/step\n"
          ]
        },
        {
          "data": {
            "text/plain": [
              "<keras.src.callbacks.History at 0x28d31bc51d0>"
            ]
          },
          "execution_count": 17,
          "metadata": {},
          "output_type": "execute_result"
        }
      ],
      "source": [
        "# Train the model\n",
        "model.fit(X_train_scaled, {'department_output': y_department_train, 'attrition_output': y_attrition_train}, epochs=100, shuffle=True, verbose=2)    \n"
      ]
    },
    {
      "cell_type": "code",
      "execution_count": 18,
      "metadata": {
        "colab": {
          "base_uri": "https://localhost:8080/"
        },
        "id": "VsMoaQlgGc3U",
        "outputId": "1bd4e601-e964-4abc-ad83-aeecf6b696be"
      },
      "outputs": [
        {
          "name": "stdout",
          "output_type": "stream",
          "text": [
            "12/12 [==============================] - 0s 3ms/step - loss: 1.4853 - department_output_loss: 1.0228 - attrition_output_loss: 0.4625 - department_output_accuracy: 0.5815 - attrition_output_accuracy: 0.8315\n"
          ]
        },
        {
          "data": {
            "text/plain": [
              "[1.4852977991104126,\n",
              " 1.0228396654129028,\n",
              " 0.46245816349983215,\n",
              " 0.58152174949646,\n",
              " 0.83152174949646]"
            ]
          },
          "execution_count": 18,
          "metadata": {},
          "output_type": "execute_result"
        }
      ],
      "source": [
        "# Evaluate the model with the testing data\n",
        "# Evaluate the model with the testing data\n",
        "test_results = model.evaluate(X_test_scaled, {'department_output': y_department_test, 'attrition_output': y_attrition_test})\n",
        "test_results"
      ]
    },
    {
      "cell_type": "code",
      "execution_count": 19,
      "metadata": {},
      "outputs": [
        {
          "name": "stdout",
          "output_type": "stream",
          "text": [
            "Department predictions accuracy: 0.58152174949646\n",
            "Attrition predictions accuracy: 0.83152174949646\n"
          ]
        }
      ],
      "source": [
        "# Print the accuracy for both department and attrition\n",
        "print(f\"Department predictions accuracy: {test_results[3]}\")\n",
        "print(f\"Attrition predictions accuracy: {test_results[4]}\")"
      ]
    },
    {
      "cell_type": "markdown",
      "metadata": {
        "id": "eGSyfsZfWOQM"
      },
      "source": [
        "# Summary\n",
        "\n",
        "In the provided space below, briefly answer the following questions.\n",
        "\n",
        "1. Is accuracy the best metric to use on this data? Why or why not?\n",
        "\n",
        "2. What activation functions did you choose for your output layers, and why?\n",
        "\n",
        "3. Can you name a few ways that this model might be improved?"
      ]
    },
    {
      "cell_type": "markdown",
      "metadata": {
        "id": "pi9SLpFnWvbF"
      },
      "source": [
        "YOUR ANSWERS HERE\n",
        "\n",
        "1. There are some drawbacks when using Accuracy score.  If our data is imbalanced, it may incorrectly predict the more frequently found data.  We can use other metrics like precision, recall, or F1-score to provide a more comprehensive evaluation.\n",
        "2. I chose the sigmoid activation function because my target value included independent classifications in the department column.\n",
        "3. We could include / test different activation functions.  We could also incorporate hyperparameter tuning."
      ]
    },
    {
      "cell_type": "markdown",
      "metadata": {},
      "source": []
    }
  ],
  "metadata": {
    "colab": {
      "provenance": []
    },
    "kernelspec": {
      "display_name": "Python 3",
      "language": "python",
      "name": "python3"
    },
    "language_info": {
      "codemirror_mode": {
        "name": "ipython",
        "version": 3
      },
      "file_extension": ".py",
      "mimetype": "text/x-python",
      "name": "python",
      "nbconvert_exporter": "python",
      "pygments_lexer": "ipython3",
      "version": "3.11.5"
    },
    "vscode": {
      "interpreter": {
        "hash": "31f2aee4e71d21fbe5cf8b01ff0e069b9275f58929596ceb00d14d90e3e16cd6"
      }
    }
  },
  "nbformat": 4,
  "nbformat_minor": 0
}
